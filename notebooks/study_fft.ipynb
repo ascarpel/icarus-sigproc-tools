{
 "cells": [
  {
   "cell_type": "code",
   "execution_count": 1,
   "metadata": {},
   "outputs": [
    {
     "name": "stdout",
     "output_type": "stream",
     "text": [
      "Opening file:  /Users/scarpell/Desktop/ICARUS/src/signal_processing/data/noise//data_dl1_run822_201_20200109T010140_dl3_20200128T175402-DUMMY.root\n",
      "Opening the folder contianing the RawDigits information:  Events\n"
     ]
    }
   ],
   "source": [
    "import uproot\n",
    "import numpy as np\n",
    "import sys\n",
    "\n",
    "import scipy.signal as signal\n",
    "from matplotlib.colors import LogNorm\n",
    "\n",
    "sigProcPath = \"/Users/scarpell/Desktop/ICARUS/src/signal_processing/icarus-sigproc-tools\"\n",
    "sys.path.insert(0,sigProcPath)\n",
    "\n",
    "PATHNAME       = \"/Users/scarpell/Desktop/ICARUS/src/signal_processing/\"\n",
    "PATHTODATA     = \"data/noise/\"\n",
    "RECOFILENAME   = PATHNAME + PATHTODATA + \"/data_dl1_run822_201_20200109T010140_dl3_20200128T175402-DUMMY.root\"\n",
    "\n",
    "# Below should be standard for the test data files currently available\n",
    "RECOFOLDERNAME = \"Events\"\n",
    "DAQNAME        = \"raw::RawDigits_daq__DUMMY.\"\n",
    "\n",
    "from sigproc_tools.sigproc_functions.noiseProcessing import getPedestalsAndRMS\n",
    "from sigproc_tools.sigproc_objects.rawdigit import RawDigit\n",
    "from sigproc_tools.sigproc_objects.minicrate import MiniCrate\n",
    "\n",
    "print(\"Opening file: \",RECOFILENAME)\n",
    "data_file = uproot.open(RECOFILENAME)\n",
    "\n",
    "print(\"Opening the folder contianing the RawDigits information: \",RECOFOLDERNAME)\n",
    "events_folder = data_file[RECOFOLDERNAME]\n",
    "rawdigits = RawDigit(events_folder,DAQNAME)    "
   ]
  },
  {
   "cell_type": "code",
   "execution_count": 13,
   "metadata": {},
   "outputs": [],
   "source": [
    "# Function definition for inside the loop\n",
    "def _getMedianNoiseCorrection(waveforms):\n",
    "        median = np.median(waveforms,axis=0)\n",
    "        waveLessCoherent = waveforms - median.transpose()\n",
    "        return waveLessCoherent\n",
    "\n",
    "def _removeCoherentNoise(waveforms,grouping):\n",
    "       # Define placeholders for the output arrays\n",
    "        waveLessCoherent = np.array([0])\n",
    "\n",
    "        nChannels = waveforms.shape[0]\n",
    "\n",
    "        for idx in range(0,nChannels,grouping):\n",
    "            temp = _getMedianNoiseCorrection(waveforms[idx:idx+grouping,:])\n",
    "            if idx == 0:\n",
    "                waveLessCoherent = temp\n",
    "            else:\n",
    "                waveLessCoherent = np.concatenate((waveLessCoherent,temp),axis=0)\n",
    "\n",
    "        return waveLessCoherent\n",
    "\n",
    "\n",
    "def make_planes(waveforms):\n",
    "    nchannels_minicrate = 576*9\n",
    "    nboard = 64\n",
    "    ncables = 32\n",
    "    groups = np.arange(int(nchannels_minicrate/ncables))\n",
    "    plane={\n",
    "        '0' : np.asarray([np.concatenate([ waveforms[e][ncables*n:ncables*(n+1)] for n in groups[(groups%2==0)] ]) for e in range(waveforms.shape[0])]),\n",
    "        '1' : np.asarray([np.concatenate([ waveforms[e][ncables*n:ncables*(n+1)] for n in groups[~(groups%2==0)] ]) for e in range(waveforms.shape[0])]) }\n",
    "    return plane"
   ]
  },
  {
   "cell_type": "code",
   "execution_count": 9,
   "metadata": {},
   "outputs": [
    {
     "name": "stdout",
     "output_type": "stream",
     "text": [
      "Processing event 0\n",
      "Processing event 1\n",
      "Processing event 2\n",
      "Processing event 3\n",
      "Processing event 4\n",
      "Processing event 5\n",
      "Processing event 6\n",
      "Processing event 7\n",
      "Processing event 8\n",
      "Processing event 9\n"
     ]
    }
   ],
   "source": [
    "# Do the loop over the events\n",
    "nEvents=10\n",
    "waveforms = [] \n",
    "waveforms_cnr = [] \n",
    "\n",
    "for event in range(nEvents):\n",
    "    print(\"Processing event %d\" % event)\n",
    "    waveform = getPedestalsAndRMS(rawdigits.getWaveforms(event))[0]\n",
    "    waveforms.append(waveform)\n",
    "    waveforms_cnr.append( _removeCoherentNoise(waveform, 32) )\n",
    "waveforms = np.asarray(waveforms)\n",
    "waveforms_cnr = np.asarray(waveforms_cnr)"
   ]
  },
  {
   "cell_type": "code",
   "execution_count": null,
   "metadata": {},
   "outputs": [],
   "source": [
    "# Now study the fft per plane\n",
    "plane = make_planes(waveforms)\n",
    "plane_cnr = make_planes(waveforms_cnr)\n",
    "\n",
    "\n",
    "# Now get the FFT\n",
    "fft = {key : np.mean(signal.periodogram(item, 1.25, axis=2)[1], axis=0) for key, item in plane.items()}\n",
    "fft_cnr = {key : np.mean(signal.periodogram(item, 1.25, axis=2)[1], axis=0) for key, item in plane_cnr.items()}\n",
    "\n",
    "import matplotlib.pyplot as plt\n",
    "\n",
    "fig, ax = plt.subplots(1,2, figsize=(12,4) )\n",
    "for idx, plane_label in enumerate(['0', '1']):\n",
    "    out =ax[idx].imshow(fft[plane_label], vmin=0.0, vmax=200, aspect = 8)\n",
    "    fig.colorbar(out, ax=ax[idx], label='Power', pad=0.02)\n",
    "\n",
    "fig, ax = plt.subplots(1,2, figsize=(12,4) )\n",
    "for idx, plane_label in enumerate(['0', '1']):\n",
    "    out =ax[idx].imshow(fft_cnr[plane_label], vmin=0.0, vmax=200, aspect = 8)\n",
    "    fig.colorbar(out, ax=ax[idx], label='Power', pad=0.02)\n",
    "\n",
    "fig, ax = plt.subplots(1,2, figsize=(12,4) )\n",
    "for idx, plane_label in enumerate(['0', '1']):\n",
    "    ax[idx].plot(np.linspace(0.0, 1.25, fft[plane_label].shape[1] ), np.mean(fft[plane_label], axis=0), label='Noise' )\n",
    "    ax[idx].plot(np.linspace(0.0, 1.25, fft_cnr[plane_label].shape[1] ), np.mean(fft_cnr[plane_label], axis=0), label='Denoised' )\n",
    "    #ax[idx].plot(np.linspace(0.0, 1.25, fft_cnr[plane_label].shape[1] ), np.mean(fft[plane_label], axis=0) - np.mean(fft_cnr[plane_label], axis=0)  , label='Difference' )\n",
    "    #ax[0].set_yscale('Log')\n",
    "    ax[idx].set_xlim((0.0, 0.4))\n",
    "    ax[idx].set_ylim((0.1, 250))\n",
    "    ax[idx].set_xlabel('Frequency (MHz)')\n",
    "    ax[idx].set_ylabel('Power')\n",
    "    ax[idx].legend()\n",
    "    \n",
    "fig, ax = plt.subplots(1,2, figsize=(12,4) )\n",
    "for idx, plane_label in enumerate(['0', '1']):\n",
    "    #ax[idx].plot(np.linspace(0.0, 1.25, fft[plane_label].shape[1] ), np.mean(fft[plane_label], axis=0), label='Noise' )\n",
    "    #ax[idx].plot(np.linspace(0.0, 1.25, fft_cnr[plane_label].shape[1] ), np.mean(fft_cnr[plane_label], axis=0), label='Denoised' )\n",
    "    ax[idx].plot(np.linspace(0.0, 1.25, fft_cnr[plane_label].shape[1] ), np.mean(fft[plane_label], axis=0) - np.mean(fft_cnr[plane_label], axis=0)  , label='Difference' )\n",
    "    #ax[0].set_yscale('Log')\n",
    "    ax[idx].set_xlim((0.0, 0.4))\n",
    "    ax[idx].set_ylim((0.1, 250))\n",
    "    ax[idx].set_xlabel('Frequency (MHz)')\n",
    "    ax[idx].set_ylabel('Power')\n",
    "    ax[idx].legend()\n",
    "\n",
    "plt.show()"
   ]
  },
  {
   "cell_type": "code",
   "execution_count": null,
   "metadata": {},
   "outputs": [],
   "source": []
  }
 ],
 "metadata": {
  "kernelspec": {
   "display_name": "Python 3",
   "language": "python",
   "name": "python3"
  },
  "language_info": {
   "codemirror_mode": {
    "name": "ipython",
    "version": 3
   },
   "file_extension": ".py",
   "mimetype": "text/x-python",
   "name": "python",
   "nbconvert_exporter": "python",
   "pygments_lexer": "ipython3",
   "version": "3.7.6"
  }
 },
 "nbformat": 4,
 "nbformat_minor": 2
}
